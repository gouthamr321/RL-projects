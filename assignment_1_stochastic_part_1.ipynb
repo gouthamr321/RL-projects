{
  "nbformat": 4,
  "nbformat_minor": 0,
  "metadata": {
    "colab": {
      "name": "assignment_1_stochastic_part_1.ipynb",
      "provenance": []
    },
    "kernelspec": {
      "name": "python3",
      "display_name": "Python 3"
    }
  },
  "cells": [
    {
      "cell_type": "code",
      "metadata": {
        "id": "wAkSD-U0cHv8"
      },
      "source": [
        "import numpy as np\n",
        "import matplotlib.pyplot as plt\n",
        "import gym\n",
        "from gym import spaces\n",
        "from google.colab import widgets\n",
        "import time\n",
        "import random"
      ],
      "execution_count": 5,
      "outputs": []
    },
    {
      "cell_type": "code",
      "metadata": {
        "colab": {
          "base_uri": "https://localhost:8080/",
          "height": 286
        },
        "id": "36fNHM2bcM3L",
        "outputId": "8c0d7345-0de7-4373-f6a7-14b90b7d8c0e"
      },
      "source": [
        "grid= np.zeros((4,4))\n",
        "start_position=tuple([3,0])\n",
        "pit1=tuple([0,3])\n",
        "pit2= tuple([1,2])\n",
        "pit3=tuple([3,2])\n",
        "gold= tuple([1,1])\n",
        "grid[start_position]=0.25\n",
        "grid[gold]=1\n",
        "grid[pit1]=0.5\n",
        "grid[pit2]=0.5\n",
        "grid[pit3]=0.5\n",
        "\n",
        "plt.imshow(grid)"
      ],
      "execution_count": 6,
      "outputs": [
        {
          "output_type": "execute_result",
          "data": {
            "text/plain": [
              "<matplotlib.image.AxesImage at 0x7fd059e8e4d0>"
            ]
          },
          "metadata": {
            "tags": []
          },
          "execution_count": 6
        },
        {
          "output_type": "display_data",
          "data": {
            "image/png": "[encoded data removed]",
            "text/plain": [
              "<Figure size 432x288 with 1 Axes>"
            ]
          },
          "metadata": {
            "tags": [],
            "needs_background": "light"
          }
        }
      ]
    },
    {
      "cell_type": "code",
      "metadata": {
        "id": "O2_JLmTLcew8"
      },
      "source": [
        "class Environment(gym.Env):\n",
        "  metadata = {'render.modes': []}\n",
        "  def __init__(self): \n",
        "    self.observation_space = spaces.Discrete(16) # 4 by 4 grid # spaces is imported from gym\n",
        "    self.action_space= spaces.Discrete(4) # right, left, top, bottom movement\n",
        "    self.max_timesteps=10\n",
        "  def reset(self):\n",
        "    self.timesteps=0\n",
        "    self.state= np.zeros((4,4))\n",
        "    self.agent_pos= [3,0]\n",
        "    self.goal_pos = tuple([1,1])\n",
        "    self.state[tuple(self.agent_pos)]= 0.25 # agent start position\n",
        "    self.state[tuple(self.goal_pos)]= 1 # agent goal position\n",
        "    self.state[tuple([0,3])] = 0.5 # pits\n",
        "    self.state[tuple([1,2])] = 0.5 # pits\n",
        "    self.state[tuple([3,2])] = 0.5 #pits\n",
        "    self.state[tuple([1,0])] = 0.80 # Wampus\n",
        "    self.observation = self.agent_pos\n",
        "    self.reward = 0\n",
        "    return self.observation\n",
        "\n",
        "\n",
        "  def step(self, action):\n",
        "    # take the appropriate action(move right, left, down, up)\n",
        "    current_agent_pos= self.agent_pos\n",
        "    self.state[tuple(current_agent_pos)] = 0 # get rid of old pose\n",
        "    if action ==0:\n",
        "      self.agent_pos[0] +=1\n",
        "    if action==1:\n",
        "      self.agent_pos[0] -=1\n",
        "    if action ==2:\n",
        "      self.agent_pos[1] +=1\n",
        "    if action==3:\n",
        "      self.agent_pos[1] -=1\n",
        "    if action==4:\n",
        "      self.agent_pos = current_agent_pos \n",
        "    self.agent_pos = np.clip(self.agent_pos, 0, 3) # clip values\n",
        "    #self.state = np.zeros((4,4))\n",
        "    # add original map here again\n",
        "    self.state[tuple([0,3])] = 0.5 # pits\n",
        "    self.state[tuple([1,2])] = 0.5 # pits\n",
        "    self.state[tuple([3,2])] = 0.5 #pits\n",
        "    self.state[tuple([1,0])] = 0.80 # Wampus\n",
        "    self.state[tuple(self.agent_pos)]= 0.25 # add updated pose to the grid\n",
        "    # do need to clear last known location of agent and add new one\n",
        "    observation = self.agent_pos \n",
        "    reward = 0\n",
        "    if (self.agent_pos ==self.goal_pos).all(): \n",
        "      self.reward +=1000 \n",
        "      print(\"reached goal, I win\")\n",
        "    if (self.agent_pos == [0,3]).all() or (self.agent_pos == [1,2]).all() or (self.agent_pos == [3,2]).all():\n",
        "      print(\"Ohhh no I have fallen into a pit :(\")\n",
        "      self.reward -= 100\n",
        "    if (self.agent_pos == [1,0]).all():\n",
        "      self.reward -= 500 \n",
        "    self.timesteps += 1\n",
        "    done = True if (self.timesteps>= self.max_timesteps) or (self.agent_pos == self.goal_pos).all() else False\n",
        "    info = {}\n",
        "    return observation, reward, done, info\n",
        "  def render(self):\n",
        "    plt.imshow(self.state)\n",
        "\n",
        "\n",
        "\n"
      ],
      "execution_count": 7,
      "outputs": []
    },
    {
      "cell_type": "code",
      "metadata": {
        "colab": {
          "base_uri": "https://localhost:8080/",
          "height": 1000
        },
        "id": "S8s02YA-cisx",
        "outputId": "5c700b19-b116-4590-cb3f-3cfaa0ff09a3"
      },
      "source": [
        "def print_actions(final_action):\n",
        "  if final_action==0:\n",
        "    print('moving down')\n",
        "  elif final_action==1:\n",
        "    print('moving up')\n",
        "  elif final_action==2:\n",
        "    print('moving right')\n",
        "  elif final_action==3:\n",
        "    print('moving left')\n",
        "  else:\n",
        "    print('not moving, staying put')\n",
        "\n",
        "\n",
        "# stochastic random agent\n",
        "class Stochastic_RandomAgent:\n",
        "  def __init__(self, env):\n",
        "    self.env= env\n",
        "    self.observation_space = env.observation_space\n",
        "    self.action_space = env.action_space\n",
        "  def step(self, observation):\n",
        "    return np.random.choice(self.action_space.n)\n",
        "\n",
        "environment = Environment() # instantiate environment\n",
        "agent=Stochastic_RandomAgent(env=environment)\n",
        "observation = environment.reset() # good practice to reset envioernment when instantiating it\n",
        "done=False\n",
        "\n",
        "output_grid= widgets.Grid(1,1)\n",
        "with output_grid.output_to(0,0):\n",
        "  environment.render()\n",
        "\n",
        "while not done:\n",
        "  action = agent.step(observation) # decide on an action given current observation\n",
        "  rand_num= random.randint(1,10)\n",
        "  # This is what makes the environment stochastic.... p(s'|s,a) != 1\n",
        "  #Here there is an 20% chance that the agent does not take the intended action and stays at the same spot\n",
        "    \n",
        "  if rand_num <=8:\n",
        "    final_action = action\n",
        "  else:\n",
        "    final_action = 4\n",
        "  print_actions(final_action)\n",
        "  observation, reward, done, info = environment.step(final_action) # take that action\n",
        "  with output_grid.output_to(0,0): \n",
        "    #output_grid.clear_cell()\n",
        "    environment.render()\n",
        "    time.sleep(2)\n"
      ],
      "execution_count": 8,
      "outputs": [
        {
          "output_type": "display_data",
          "data": {
            "text/html": [
              "<style>\n",
              "       table#id4, #id4 > tbody > tr > th, #id4 > tbody > tr > td {\n",
              "         border: 1px solid lightgray;\n",
              "         border-collapse:collapse;\n",
              "         \n",
              "        }</style>"
            ],
            "text/plain": [
              "<IPython.core.display.HTML object>"
            ]
          },
          "metadata": {
            "tags": [
              "outputarea_id4"
            ]
          }
        },
        {
          "output_type": "display_data",
          "data": {
            "text/html": [
              "<table id=id4><tr><td id=id4-0-0></td></tr></table>"
            ],
            "text/plain": [
              "<IPython.core.display.HTML object>"
            ]
          },
          "metadata": {
            "tags": [
              "outputarea_id4"
            ]
          }
        },
        {
          "output_type": "display_data",
          "data": {
            "application/javascript": [
              "window[\"e1e3fb9e-805a-11eb-8472-0242ac1c0002\"] = google.colab.output.getActiveOutputArea();\n",
              "//# sourceURL=js_d3bc2163ac"
            ],
            "text/plain": [
              "<IPython.core.display.Javascript object>"
            ]
          },
          "metadata": {
            "tags": [
              "id4-0-0",
              "outputarea_id4"
            ]
          }
        },
        {
          "output_type": "display_data",
          "data": {
            "application/javascript": [
              "window[\"e1e47272-805a-11eb-8472-0242ac1c0002\"] = document.querySelector(\"#id4-0-0\");\n",
              "//# sourceURL=js_382c19217b"
            ],
            "text/plain": [
              "<IPython.core.display.Javascript object>"
            ]
          },
          "metadata": {
            "tags": [
              "id4-0-0",
              "outputarea_id4"
            ]
          }
        },
        {
          "output_type": "display_data",
          "data": {
            "application/javascript": [
              "window[\"e1e4cea2-805a-11eb-8472-0242ac1c0002\"] = google.colab.output.setActiveOutputArea(window[\"e1e47272-805a-11eb-8472-0242ac1c0002\"]);\n",
              "//# sourceURL=js_f0aa356209"
            ],
            "text/plain": [
              "<IPython.core.display.Javascript object>"
            ]
          },
          "metadata": {
            "tags": [
              "id4-0-0",
              "outputarea_id4"
            ]
          }
        },
        {
          "output_type": "display_data",
          "data": {
            "image/png": "[encoded data removed]",
            "text/plain": [
              "<Figure size 432x288 with 1 Axes>"
            ]
          },
          "metadata": {
            "tags": [
              "id4-0-0",
              "outputarea_id4",
              "user_output"
            ],
            "needs_background": "light"
          }
        },
        {
          "output_type": "display_data",
          "data": {
            "application/javascript": [
              "window[\"e201c854-805a-11eb-8472-0242ac1c0002\"] = google.colab.output.setActiveOutputArea(window[\"e1e3fb9e-805a-11eb-8472-0242ac1c0002\"]);\n",
              "//# sourceURL=js_81167654db"
            ],
            "text/plain": [
              "<IPython.core.display.Javascript object>"
            ]
          },
          "metadata": {
            "tags": [
              "id4-0-0",
              "outputarea_id4"
            ]
          }
        },
        {
          "output_type": "stream",
          "text": [
            "moving left\n"
          ],
          "name": "stdout"
        },
        {
          "output_type": "display_data",
          "data": {
            "application/javascript": [
              "window[\"e20523aa-805a-11eb-8472-0242ac1c0002\"] = google.colab.output.getActiveOutputArea();\n",
              "//# sourceURL=js_e1ac5b8bbb"
            ],
            "text/plain": [
              "<IPython.core.display.Javascript object>"
            ]
          },
          "metadata": {
            "tags": [
              "id4-0-0",
              "outputarea_id4"
            ]
          }
        },
        {
          "output_type": "display_data",
          "data": {
            "application/javascript": [
              "window[\"e205786e-805a-11eb-8472-0242ac1c0002\"] = document.querySelector(\"#id4-0-0\");\n",
              "//# sourceURL=js_65743e4975"
            ],
            "text/plain": [
              "<IPython.core.display.Javascript object>"
            ]
          },
          "metadata": {
            "tags": [
              "id4-0-0",
              "outputarea_id4"
            ]
          }
        },
        {
          "output_type": "display_data",
          "data": {
            "application/javascript": [
              "window[\"e205eb00-805a-11eb-8472-0242ac1c0002\"] = google.colab.output.setActiveOutputArea(window[\"e205786e-805a-11eb-8472-0242ac1c0002\"]);\n",
              "//# sourceURL=js_43ef4b4a19"
            ],
            "text/plain": [
              "<IPython.core.display.Javascript object>"
            ]
          },
          "metadata": {
            "tags": [
              "id4-0-0",
              "outputarea_id4"
            ]
          }
        },
        {
          "output_type": "display_data",
          "data": {
            "image/png": "[encoded data removed]",
            "text/plain": [
              "<Figure size 432x288 with 1 Axes>"
            ]
          },
          "metadata": {
            "tags": [
              "id4-0-0",
              "outputarea_id4",
              "user_output"
            ],
            "needs_background": "light"
          }
        },
        {
          "output_type": "display_data",
          "data": {
            "application/javascript": [
              "window[\"e3531eb0-805a-11eb-8472-0242ac1c0002\"] = google.colab.output.setActiveOutputArea(window[\"e20523aa-805a-11eb-8472-0242ac1c0002\"]);\n",
              "//# sourceURL=js_e6c79df173"
            ],
            "text/plain": [
              "<IPython.core.display.Javascript object>"
            ]
          },
          "metadata": {
            "tags": [
              "id4-0-0",
              "outputarea_id4"
            ]
          }
        },
        {
          "output_type": "stream",
          "text": [
            "moving left\n"
          ],
          "name": "stdout"
        },
        {
          "output_type": "display_data",
          "data": {
            "application/javascript": [
              "window[\"e355f2b6-805a-11eb-8472-0242ac1c0002\"] = google.colab.output.getActiveOutputArea();\n",
              "//# sourceURL=js_bb8a911a18"
            ],
            "text/plain": [
              "<IPython.core.display.Javascript object>"
            ]
          },
          "metadata": {
            "tags": [
              "id4-0-0",
              "outputarea_id4"
            ]
          }
        },
        {
          "output_type": "display_data",
          "data": {
            "application/javascript": [
              "window[\"e3566138-805a-11eb-8472-0242ac1c0002\"] = document.querySelector(\"#id4-0-0\");\n",
              "//# sourceURL=js_9b57eef3a1"
            ],
            "text/plain": [
              "<IPython.core.display.Javascript object>"
            ]
          },
          "metadata": {
            "tags": [
              "id4-0-0",
              "outputarea_id4"
            ]
          }
        },
        {
          "output_type": "display_data",
          "data": {
            "application/javascript": [
              "window[\"e356ce84-805a-11eb-8472-0242ac1c0002\"] = google.colab.output.setActiveOutputArea(window[\"e3566138-805a-11eb-8472-0242ac1c0002\"]);\n",
              "//# sourceURL=js_b4bdc4a1de"
            ],
            "text/plain": [
              "<IPython.core.display.Javascript object>"
            ]
          },
          "metadata": {
            "tags": [
              "id4-0-0",
              "outputarea_id4"
            ]
          }
        },
        {
          "output_type": "display_data",
          "data": {
            "image/png": "[encoded data removed]",
            "text/plain": [
              "<Figure size 432x288 with 1 Axes>"
            ]
          },
          "metadata": {
            "tags": [
              "id4-0-0",
              "outputarea_id4",
              "user_output"
            ],
            "needs_background": "light"
          }
        },
        {
          "output_type": "display_data",
          "data": {
            "application/javascript": [
              "window[\"e4aab44e-805a-11eb-8472-0242ac1c0002\"] = google.colab.output.setActiveOutputArea(window[\"e355f2b6-805a-11eb-8472-0242ac1c0002\"]);\n",
              "//# sourceURL=js_883d3fc273"
            ],
            "text/plain": [
              "<IPython.core.display.Javascript object>"
            ]
          },
          "metadata": {
            "tags": [
              "id4-0-0",
              "outputarea_id4"
            ]
          }
        },
        {
          "output_type": "stream",
          "text": [
            "moving down\n"
          ],
          "name": "stdout"
        },
        {
          "output_type": "display_data",
          "data": {
            "application/javascript": [
              "window[\"e4ae3da8-805a-11eb-8472-0242ac1c0002\"] = google.colab.output.getActiveOutputArea();\n",
              "//# sourceURL=js_a668814cb5"
            ],
            "text/plain": [
              "<IPython.core.display.Javascript object>"
            ]
          },
          "metadata": {
            "tags": [
              "id4-0-0",
              "outputarea_id4"
            ]
          }
        },
        {
          "output_type": "display_data",
          "data": {
            "application/javascript": [
              "window[\"e4aeccf0-805a-11eb-8472-0242ac1c0002\"] = document.querySelector(\"#id4-0-0\");\n",
              "//# sourceURL=js_445afe9c0c"
            ],
            "text/plain": [
              "<IPython.core.display.Javascript object>"
            ]
          },
          "metadata": {
            "tags": [
              "id4-0-0",
              "outputarea_id4"
            ]
          }
        },
        {
          "output_type": "display_data",
          "data": {
            "application/javascript": [
              "window[\"e4af37a8-805a-11eb-8472-0242ac1c0002\"] = google.colab.output.setActiveOutputArea(window[\"e4aeccf0-805a-11eb-8472-0242ac1c0002\"]);\n",
              "//# sourceURL=js_a62411727c"
            ],
            "text/plain": [
              "<IPython.core.display.Javascript object>"
            ]
          },
          "metadata": {
            "tags": [
              "id4-0-0",
              "outputarea_id4"
            ]
          }
        },
        {
          "output_type": "display_data",
          "data": {
            "image/png": "[encoded data removed]",
            "text/plain": [
              "<Figure size 432x288 with 1 Axes>"
            ]
          },
          "metadata": {
            "tags": [
              "id4-0-0",
              "outputarea_id4",
              "user_output"
            ],
            "needs_background": "light"
          }
        },
        {
          "output_type": "display_data",
          "data": {
            "application/javascript": [
              "window[\"e5fb3260-805a-11eb-8472-0242ac1c0002\"] = google.colab.output.setActiveOutputArea(window[\"e4ae3da8-805a-11eb-8472-0242ac1c0002\"]);\n",
              "//# sourceURL=js_991dda8d45"
            ],
            "text/plain": [
              "<IPython.core.display.Javascript object>"
            ]
          },
          "metadata": {
            "tags": [
              "id4-0-0",
              "outputarea_id4"
            ]
          }
        },
        {
          "output_type": "stream",
          "text": [
            "moving down\n"
          ],
          "name": "stdout"
        },
        {
          "output_type": "display_data",
          "data": {
            "application/javascript": [
              "window[\"e600c810-805a-11eb-8472-0242ac1c0002\"] = google.colab.output.getActiveOutputArea();\n",
              "//# sourceURL=js_9b593092c9"
            ],
            "text/plain": [
              "<IPython.core.display.Javascript object>"
            ]
          },
          "metadata": {
            "tags": [
              "id4-0-0",
              "outputarea_id4"
            ]
          }
        },
        {
          "output_type": "display_data",
          "data": {
            "application/javascript": [
              "window[\"e601e90c-805a-11eb-8472-0242ac1c0002\"] = document.querySelector(\"#id4-0-0\");\n",
              "//# sourceURL=js_2157aa73b0"
            ],
            "text/plain": [
              "<IPython.core.display.Javascript object>"
            ]
          },
          "metadata": {
            "tags": [
              "id4-0-0",
              "outputarea_id4"
            ]
          }
        },
        {
          "output_type": "display_data",
          "data": {
            "application/javascript": [
              "window[\"e602bf80-805a-11eb-8472-0242ac1c0002\"] = google.colab.output.setActiveOutputArea(window[\"e601e90c-805a-11eb-8472-0242ac1c0002\"]);\n",
              "//# sourceURL=js_5a7a9f88bc"
            ],
            "text/plain": [
              "<IPython.core.display.Javascript object>"
            ]
          },
          "metadata": {
            "tags": [
              "id4-0-0",
              "outputarea_id4"
            ]
          }
        },
        {
          "output_type": "display_data",
          "data": {
            "image/png": "[encoded data removed]",
            "text/plain": [
              "<Figure size 432x288 with 1 Axes>"
            ]
          },
          "metadata": {
            "tags": [
              "id4-0-0",
              "outputarea_id4",
              "user_output"
            ],
            "needs_background": "light"
          }
        },
        {
          "output_type": "display_data",
          "data": {
            "application/javascript": [
              "window[\"e74da990-805a-11eb-8472-0242ac1c0002\"] = google.colab.output.setActiveOutputArea(window[\"e600c810-805a-11eb-8472-0242ac1c0002\"]);\n",
              "//# sourceURL=js_a0e4362bed"
            ],
            "text/plain": [
              "<IPython.core.display.Javascript object>"
            ]
          },
          "metadata": {
            "tags": [
              "id4-0-0",
              "outputarea_id4"
            ]
          }
        },
        {
          "output_type": "stream",
          "text": [
            "moving down\n"
          ],
          "name": "stdout"
        },
        {
          "output_type": "display_data",
          "data": {
            "application/javascript": [
              "window[\"e74ff74a-805a-11eb-8472-0242ac1c0002\"] = google.colab.output.getActiveOutputArea();\n",
              "//# sourceURL=js_9faf830424"
            ],
            "text/plain": [
              "<IPython.core.display.Javascript object>"
            ]
          },
          "metadata": {
            "tags": [
              "id4-0-0",
              "outputarea_id4"
            ]
          }
        },
        {
          "output_type": "display_data",
          "data": {
            "application/javascript": [
              "window[\"e7504510-805a-11eb-8472-0242ac1c0002\"] = document.querySelector(\"#id4-0-0\");\n",
              "//# sourceURL=js_57ee017052"
            ],
            "text/plain": [
              "<IPython.core.display.Javascript object>"
            ]
          },
          "metadata": {
            "tags": [
              "id4-0-0",
              "outputarea_id4"
            ]
          }
        },
        {
          "output_type": "display_data",
          "data": {
            "application/javascript": [
              "window[\"e750c3aa-805a-11eb-8472-0242ac1c0002\"] = google.colab.output.setActiveOutputArea(window[\"e7504510-805a-11eb-8472-0242ac1c0002\"]);\n",
              "//# sourceURL=js_b4b9fe7a7b"
            ],
            "text/plain": [
              "<IPython.core.display.Javascript object>"
            ]
          },
          "metadata": {
            "tags": [
              "id4-0-0",
              "outputarea_id4"
            ]
          }
        },
        {
          "output_type": "display_data",
          "data": {
            "image/png": "[encoded data removed]",
            "text/plain": [
              "<Figure size 432x288 with 1 Axes>"
            ]
          },
          "metadata": {
            "tags": [
              "id4-0-0",
              "outputarea_id4",
              "user_output"
            ],
            "needs_background": "light"
          }
        },
        {
          "output_type": "display_data",
          "data": {
            "application/javascript": [
              "window[\"e89bcb4c-805a-11eb-8472-0242ac1c0002\"] = google.colab.output.setActiveOutputArea(window[\"e74ff74a-805a-11eb-8472-0242ac1c0002\"]);\n",
              "//# sourceURL=js_42f1c131ce"
            ],
            "text/plain": [
              "<IPython.core.display.Javascript object>"
            ]
          },
          "metadata": {
            "tags": [
              "id4-0-0",
              "outputarea_id4"
            ]
          }
        },
        {
          "output_type": "stream",
          "text": [
            "moving up\n"
          ],
          "name": "stdout"
        },
        {
          "output_type": "display_data",
          "data": {
            "application/javascript": [
              "window[\"e89edae4-805a-11eb-8472-0242ac1c0002\"] = google.colab.output.getActiveOutputArea();\n",
              "//# sourceURL=js_288717ffcf"
            ],
            "text/plain": [
              "<IPython.core.display.Javascript object>"
            ]
          },
          "metadata": {
            "tags": [
              "id4-0-0",
              "outputarea_id4"
            ]
          }
        },
        {
          "output_type": "display_data",
          "data": {
            "application/javascript": [
              "window[\"e89f2904-805a-11eb-8472-0242ac1c0002\"] = document.querySelector(\"#id4-0-0\");\n",
              "//# sourceURL=js_5f207f6a69"
            ],
            "text/plain": [
              "<IPython.core.display.Javascript object>"
            ]
          },
          "metadata": {
            "tags": [
              "id4-0-0",
              "outputarea_id4"
            ]
          }
        },
        {
          "output_type": "display_data",
          "data": {
            "application/javascript": [
              "window[\"e89f7292-805a-11eb-8472-0242ac1c0002\"] = google.colab.output.setActiveOutputArea(window[\"e89f2904-805a-11eb-8472-0242ac1c0002\"]);\n",
              "//# sourceURL=js_d5f2a8e8da"
            ],
            "text/plain": [
              "<IPython.core.display.Javascript object>"
            ]
          },
          "metadata": {
            "tags": [
              "id4-0-0",
              "outputarea_id4"
            ]
          }
        },
        {
          "output_type": "display_data",
          "data": {
            "image/png": "[encoded data removed]",
            "text/plain": [
              "<Figure size 432x288 with 1 Axes>"
            ]
          },
          "metadata": {
            "tags": [
              "id4-0-0",
              "outputarea_id4",
              "user_output"
            ],
            "needs_background": "light"
          }
        },
        {
          "output_type": "display_data",
          "data": {
            "application/javascript": [
              "window[\"e9eb72e0-805a-11eb-8472-0242ac1c0002\"] = google.colab.output.setActiveOutputArea(window[\"e89edae4-805a-11eb-8472-0242ac1c0002\"]);\n",
              "//# sourceURL=js_7baf429716"
            ],
            "text/plain": [
              "<IPython.core.display.Javascript object>"
            ]
          },
          "metadata": {
            "tags": [
              "id4-0-0",
              "outputarea_id4"
            ]
          }
        },
        {
          "output_type": "stream",
          "text": [
            "not moving, staying put\n"
          ],
          "name": "stdout"
        },
        {
          "output_type": "display_data",
          "data": {
            "application/javascript": [
              "window[\"e9ee7cc4-805a-11eb-8472-0242ac1c0002\"] = google.colab.output.getActiveOutputArea();\n",
              "//# sourceURL=js_de9bd4aa23"
            ],
            "text/plain": [
              "<IPython.core.display.Javascript object>"
            ]
          },
          "metadata": {
            "tags": [
              "id4-0-0",
              "outputarea_id4"
            ]
          }
        },
        {
          "output_type": "display_data",
          "data": {
            "application/javascript": [
              "window[\"e9eecd14-805a-11eb-8472-0242ac1c0002\"] = document.querySelector(\"#id4-0-0\");\n",
              "//# sourceURL=js_85f226e5cc"
            ],
            "text/plain": [
              "<IPython.core.display.Javascript object>"
            ]
          },
          "metadata": {
            "tags": [
              "id4-0-0",
              "outputarea_id4"
            ]
          }
        },
        {
          "output_type": "display_data",
          "data": {
            "application/javascript": [
              "window[\"e9ef239a-805a-11eb-8472-0242ac1c0002\"] = google.colab.output.setActiveOutputArea(window[\"e9eecd14-805a-11eb-8472-0242ac1c0002\"]);\n",
              "//# sourceURL=js_7aa0dd34e3"
            ],
            "text/plain": [
              "<IPython.core.display.Javascript object>"
            ]
          },
          "metadata": {
            "tags": [
              "id4-0-0",
              "outputarea_id4"
            ]
          }
        },
        {
          "output_type": "display_data",
          "data": {
            "image/png": "[encoded data removed]",
            "text/plain": [
              "<Figure size 432x288 with 1 Axes>"
            ]
          },
          "metadata": {
            "tags": [
              "id4-0-0",
              "outputarea_id4",
              "user_output"
            ],
            "needs_background": "light"
          }
        },
        {
          "output_type": "display_data",
          "data": {
            "application/javascript": [
              "window[\"eb39b9c2-805a-11eb-8472-0242ac1c0002\"] = google.colab.output.setActiveOutputArea(window[\"e9ee7cc4-805a-11eb-8472-0242ac1c0002\"]);\n",
              "//# sourceURL=js_da52f04080"
            ],
            "text/plain": [
              "<IPython.core.display.Javascript object>"
            ]
          },
          "metadata": {
            "tags": [
              "id4-0-0",
              "outputarea_id4"
            ]
          }
        },
        {
          "output_type": "stream",
          "text": [
            "not moving, staying put\n"
          ],
          "name": "stdout"
        },
        {
          "output_type": "display_data",
          "data": {
            "application/javascript": [
              "window[\"eb3c8fc6-805a-11eb-8472-0242ac1c0002\"] = google.colab.output.getActiveOutputArea();\n",
              "//# sourceURL=js_9fab8f13d4"
            ],
            "text/plain": [
              "<IPython.core.display.Javascript object>"
            ]
          },
          "metadata": {
            "tags": [
              "id4-0-0",
              "outputarea_id4"
            ]
          }
        },
        {
          "output_type": "display_data",
          "data": {
            "application/javascript": [
              "window[\"eb3cf9c0-805a-11eb-8472-0242ac1c0002\"] = document.querySelector(\"#id4-0-0\");\n",
              "//# sourceURL=js_ab8e40890d"
            ],
            "text/plain": [
              "<IPython.core.display.Javascript object>"
            ]
          },
          "metadata": {
            "tags": [
              "id4-0-0",
              "outputarea_id4"
            ]
          }
        },
        {
          "output_type": "display_data",
          "data": {
            "application/javascript": [
              "window[\"eb3d7076-805a-11eb-8472-0242ac1c0002\"] = google.colab.output.setActiveOutputArea(window[\"eb3cf9c0-805a-11eb-8472-0242ac1c0002\"]);\n",
              "//# sourceURL=js_b46d46120d"
            ],
            "text/plain": [
              "<IPython.core.display.Javascript object>"
            ]
          },
          "metadata": {
            "tags": [
              "id4-0-0",
              "outputarea_id4"
            ]
          }
        },
        {
          "output_type": "display_data",
          "data": {
            "image/png": "[encoded data removed]",
            "text/plain": [
              "<Figure size 432x288 with 1 Axes>"
            ]
          },
          "metadata": {
            "tags": [
              "id4-0-0",
              "outputarea_id4",
              "user_output"
            ],
            "needs_background": "light"
          }
        },
        {
          "output_type": "display_data",
          "data": {
            "application/javascript": [
              "window[\"ec9808a0-805a-11eb-8472-0242ac1c0002\"] = google.colab.output.setActiveOutputArea(window[\"eb3c8fc6-805a-11eb-8472-0242ac1c0002\"]);\n",
              "//# sourceURL=js_78cc4b4cf0"
            ],
            "text/plain": [
              "<IPython.core.display.Javascript object>"
            ]
          },
          "metadata": {
            "tags": [
              "id4-0-0",
              "outputarea_id4"
            ]
          }
        },
        {
          "output_type": "stream",
          "text": [
            "moving right\n"
          ],
          "name": "stdout"
        },
        {
          "output_type": "display_data",
          "data": {
            "application/javascript": [
              "window[\"ec9b0956-805a-11eb-8472-0242ac1c0002\"] = google.colab.output.getActiveOutputArea();\n",
              "//# sourceURL=js_0e349710ba"
            ],
            "text/plain": [
              "<IPython.core.display.Javascript object>"
            ]
          },
          "metadata": {
            "tags": [
              "id4-0-0",
              "outputarea_id4"
            ]
          }
        },
        {
          "output_type": "display_data",
          "data": {
            "application/javascript": [
              "window[\"ec9b9290-805a-11eb-8472-0242ac1c0002\"] = document.querySelector(\"#id4-0-0\");\n",
              "//# sourceURL=js_fd36a7490b"
            ],
            "text/plain": [
              "<IPython.core.display.Javascript object>"
            ]
          },
          "metadata": {
            "tags": [
              "id4-0-0",
              "outputarea_id4"
            ]
          }
        },
        {
          "output_type": "display_data",
          "data": {
            "application/javascript": [
              "window[\"ec9c14b8-805a-11eb-8472-0242ac1c0002\"] = google.colab.output.setActiveOutputArea(window[\"ec9b9290-805a-11eb-8472-0242ac1c0002\"]);\n",
              "//# sourceURL=js_a5463688e0"
            ],
            "text/plain": [
              "<IPython.core.display.Javascript object>"
            ]
          },
          "metadata": {
            "tags": [
              "id4-0-0",
              "outputarea_id4"
            ]
          }
        },
        {
          "output_type": "display_data",
          "data": {
            "image/png": "[encoded data removed]",
            "text/plain": [
              "<Figure size 432x288 with 1 Axes>"
            ]
          },
          "metadata": {
            "tags": [
              "id4-0-0",
              "outputarea_id4",
              "user_output"
            ],
            "needs_background": "light"
          }
        },
        {
          "output_type": "display_data",
          "data": {
            "application/javascript": [
              "window[\"ede86ede-805a-11eb-8472-0242ac1c0002\"] = google.colab.output.setActiveOutputArea(window[\"ec9b0956-805a-11eb-8472-0242ac1c0002\"]);\n",
              "//# sourceURL=js_620303ccb6"
            ],
            "text/plain": [
              "<IPython.core.display.Javascript object>"
            ]
          },
          "metadata": {
            "tags": [
              "id4-0-0",
              "outputarea_id4"
            ]
          }
        },
        {
          "output_type": "stream",
          "text": [
            "not moving, staying put\n"
          ],
          "name": "stdout"
        },
        {
          "output_type": "display_data",
          "data": {
            "application/javascript": [
              "window[\"edece0d6-805a-11eb-8472-0242ac1c0002\"] = google.colab.output.getActiveOutputArea();\n",
              "//# sourceURL=js_02666f99ad"
            ],
            "text/plain": [
              "<IPython.core.display.Javascript object>"
            ]
          },
          "metadata": {
            "tags": [
              "id4-0-0",
              "outputarea_id4"
            ]
          }
        },
        {
          "output_type": "display_data",
          "data": {
            "application/javascript": [
              "window[\"eded929c-805a-11eb-8472-0242ac1c0002\"] = document.querySelector(\"#id4-0-0\");\n",
              "//# sourceURL=js_b4114b5498"
            ],
            "text/plain": [
              "<IPython.core.display.Javascript object>"
            ]
          },
          "metadata": {
            "tags": [
              "id4-0-0",
              "outputarea_id4"
            ]
          }
        },
        {
          "output_type": "display_data",
          "data": {
            "application/javascript": [
              "window[\"edee5c04-805a-11eb-8472-0242ac1c0002\"] = google.colab.output.setActiveOutputArea(window[\"eded929c-805a-11eb-8472-0242ac1c0002\"]);\n",
              "//# sourceURL=js_a0295f02ed"
            ],
            "text/plain": [
              "<IPython.core.display.Javascript object>"
            ]
          },
          "metadata": {
            "tags": [
              "id4-0-0",
              "outputarea_id4"
            ]
          }
        },
        {
          "output_type": "display_data",
          "data": {
            "image/png": "[encoded data removed]",
            "text/plain": [
              "<Figure size 432x288 with 1 Axes>"
            ]
          },
          "metadata": {
            "tags": [
              "id4-0-0",
              "outputarea_id4",
              "user_output"
            ],
            "needs_background": "light"
          }
        },
        {
          "output_type": "display_data",
          "data": {
            "application/javascript": [
              "window[\"ef39ba18-805a-11eb-8472-0242ac1c0002\"] = google.colab.output.setActiveOutputArea(window[\"edece0d6-805a-11eb-8472-0242ac1c0002\"]);\n",
              "//# sourceURL=js_380ee54e7b"
            ],
            "text/plain": [
              "<IPython.core.display.Javascript object>"
            ]
          },
          "metadata": {
            "tags": [
              "id4-0-0",
              "outputarea_id4"
            ]
          }
        }
      ]
    },
    {
      "cell_type": "code",
      "metadata": {
        "id": "Q50sp2i0g7Yx"
      },
      "source": [
        ""
      ],
      "execution_count": 8,
      "outputs": []
    }
  ]
}